{
 "cells": [
  {
   "cell_type": "code",
   "execution_count": 79,
   "id": "respective-union",
   "metadata": {},
   "outputs": [
    {
     "name": "stdout",
     "output_type": "stream",
     "text": [
      "The autoreload extension is already loaded. To reload it, use:\n",
      "  %reload_ext autoreload\n"
     ]
    }
   ],
   "source": [
    "%load_ext autoreload\n",
    "%autoreload 2\n",
    "import pickle\n",
    "import pandas as pd\n",
    "import numpy as np\n",
    "import matplotlib.pyplot as plt\n",
    "from sklearn.metrics import accuracy_score\n",
    "from sklearn.metrics import plot_confusion_matrix\n",
    "import seaborn as sns\n",
    "import copy\n",
    "from keras.models import load_model\n",
    "import joblib\n",
    "import os\n",
    "import csv\n",
    "import math\n",
    "\n",
    "from brate_trainer_mlp_lstm import *\n",
    "from data_columns import *\n",
    "import load_data as ld\n",
    "pd.options.mode.chained_assignment = None  # default='warn'"
   ]
  },
  {
   "cell_type": "code",
   "execution_count": 80,
   "id": "fatal-census",
   "metadata": {},
   "outputs": [],
   "source": [
    "raw_data_path = '/home/shared_data/dash/raw_data/dataset7_35Mbps_max_brate_withCa/'\n",
    "horz_wind_size = 2\n",
    "aggr_wind_size = 12\n",
    "pred_data_path = ('../data/data_eval_output/dataset7-' \n",
    "                    + str(horz_wind_size) + 'sWsize-' \n",
    "                    + str(aggr_wind_size) + 'aggsize/')\n",
    "\n",
    "runs = [6, 12, 21, 27]\n",
    "sim_time = 1000 # seconds"
   ]
  },
  {
   "cell_type": "code",
   "execution_count": 81,
   "id": "lightweight-cleveland",
   "metadata": {},
   "outputs": [
    {
     "name": "stdout",
     "output_type": "stream",
     "text": [
      "Run:  6\n",
      "Run:  12\n",
      "Run:  21\n",
      "Run:  27\n"
     ]
    }
   ],
   "source": [
    "for r in runs:\n",
    "    print('Run: ', r)\n",
    "    real_dash_log = 'run'+ str(r) + '/dash_client_log.txt'\n",
    "    pred_log = 'run' +str(r) +'wsize' +str(horz_wind_size) +'.csv'\n",
    "    mob_log = 'run' + str(r) + '/mobility_trace.txt'\n",
    "    out_fname = 'ground_truth_' + pred_log\n",
    "    num_clients_file = raw_data_path +'run'+str(r) +'/parameter_settings.txt'\n",
    "    with open(num_clients_file) as file:\n",
    "        num_clients = [next(file) for x in range(5)]\n",
    "    num_clients = num_clients[4].split('= ')\n",
    "    num_clients = num_clients[1].split('\\n')\n",
    "    num_clients = int(num_clients[0])\n",
    "    #print(num_clients)\n",
    "    out_file = open(pred_data_path+out_fname, 'w')\n",
    "    csv_writer = csv.writer(out_file, delimiter='\\n')\n",
    "    csv_writer.writerow([\"Treal_start\", \"Treal_end\", \"Node\", \"video-Id\", \"seg-Id\", \"seg-qual\", \"gNB-Id\"])\n",
    "    skip_lines = 2\n",
    "    #skip_lines = (if (r==1) 5 else 2)\n",
    "    line_count = len(open(raw_data_path+real_dash_log).readlines()) - num_clients - skip_lines - 1\n",
    "    #print(line_count)\n",
    "    real_dash_data = pd.read_csv(raw_data_path+real_dash_log, skiprows=skip_lines, sep ='\\t', nrows = line_count)\n",
    "    real_assoc_data = pd.read_csv(raw_data_path+mob_log, sep ='\\t')\n",
    "    # add the time_to_nxt_request to the real time line\n",
    "    real_dash_data['tstamp_us'] = (real_dash_data['tstamp_us']/1000000) + real_dash_data['delayToNxtReq_s'] \n",
    "    real_assoc_data['tstamp_us'] = (real_assoc_data['tstamp_us']/1000000) \n",
    "    # Create time windows by using which \n",
    "    start_time = 0 # seconds   \n",
    "    end_time = sim_time # seconds\n",
    "    wind_start = start_time\n",
    "    wind_end = start_time + horz_wind_size\n",
    "    wind_ind = 1\n",
    "    num_wind = math.floor( (end_time - start_time) / horz_wind_size)\n",
    "    num_seg = np.zeros((num_clients,num_wind))\n",
    "    ground_truth_num_seg = np.zeros((num_clients,num_wind)) \n",
    "    ground_truth_wind_time = np.zeros((num_clients,num_wind)) \n",
    "    while wind_end <= end_time:\n",
    "        # get all the samples for this window\n",
    "        this_wind_real = real_dash_data.loc[(real_dash_data['tstamp_us'] >= wind_start) & (real_dash_data['tstamp_us'] < wind_end)]\n",
    "        this_wind_assoc_real = real_assoc_data.loc[(real_assoc_data['tstamp_us'] >= wind_start) & (real_assoc_data['tstamp_us'] < wind_end)]\n",
    "        # find all the nodes that exist in this window\n",
    "        # TO DO sort\n",
    "        nodes = this_wind_real['Node'].unique()\n",
    "        # get the segment qualities requested in this window, the new_brate for each node\n",
    "        for node in nodes :\n",
    "            seg_qual = this_wind_real['newBitRate_bps'].loc[this_wind_real['Node'] == node]\n",
    "            # the +1 here is because the segment id is logged after a segment is received. \n",
    "            # After we add the timeForNxtRequest to the timestamps, we have the time at which\n",
    "            # a ground truth request was actually sent out. This will be sent out with seg numn = last +1\n",
    "            seg_id = this_wind_real['segmentId'].loc[this_wind_real['Node'] == node] + 1 \n",
    "            video_id = max(this_wind_real['videoId'].loc[this_wind_real['Node'] == node])\n",
    "            assoc = this_wind_assoc_real['cellID'].loc[this_wind_assoc_real['IMSI'] == node] # 4 for assoc celID\n",
    "            assoc_time = this_wind_assoc_real['tstamp_us'].loc[this_wind_assoc_real['IMSI'] == node]\n",
    "            seg_time = this_wind_real['tstamp_us'].loc[this_wind_real['Node'] == node]\n",
    "            # for each segment in the window\n",
    "            for i in range(seg_id.shape[0]):\n",
    "                # get the association for this seg_id\n",
    "                assoc_val = assoc.values[j]\n",
    "                w = [wind_start, wind_end, node, video_id, seg_id.values[i], seg_qual.values[i], assoc_val]\n",
    "                csv_writer.writerow(w)\n",
    "\n",
    "        # wrap up this window and set the nexct window limits\n",
    "        wind_start = wind_end\n",
    "        wind_end = wind_start + horz_wind_size\n",
    "        wind_ind = wind_ind + 1"
   ]
  },
  {
   "cell_type": "code",
   "execution_count": null,
   "id": "passive-chart",
   "metadata": {},
   "outputs": [],
   "source": []
  }
 ],
 "metadata": {
  "kernelspec": {
   "display_name": "Python 3",
   "language": "python",
   "name": "python3"
  },
  "language_info": {
   "codemirror_mode": {
    "name": "ipython",
    "version": 3
   },
   "file_extension": ".py",
   "mimetype": "text/x-python",
   "name": "python",
   "nbconvert_exporter": "python",
   "pygments_lexer": "ipython3",
   "version": "3.9.2"
  }
 },
 "nbformat": 4,
 "nbformat_minor": 5
}
