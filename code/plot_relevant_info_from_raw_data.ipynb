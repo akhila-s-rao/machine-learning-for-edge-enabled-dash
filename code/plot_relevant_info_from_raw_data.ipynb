{
 "cells": [
  {
   "cell_type": "code",
   "execution_count": null,
   "id": "valuable-cedar",
   "metadata": {},
   "outputs": [],
   "source": [
    "%load_ext autoreload\n",
    "%autoreload 2"
   ]
  },
  {
   "cell_type": "code",
   "execution_count": 131,
   "id": "australian-giving",
   "metadata": {},
   "outputs": [],
   "source": [
    "import os\n",
    "import pickle\n",
    "import numpy as np\n",
    "import pandas as pd\n",
    "import matplotlib.pyplot as plt\n",
    "from multiprocessing import Pool\n",
    "import load_data as ld\n",
    "from rawDataHandler import RawDataHandler, NodeDfStore"
   ]
  },
  {
   "cell_type": "code",
   "execution_count": 132,
   "id": "metallic-clerk",
   "metadata": {},
   "outputs": [],
   "source": [
    "import matplotlib.pyplot as plt\n",
    "plt.rcParams.update({'font.size': 20,\n",
    "                     'xtick.labelsize' : 20,\n",
    "                     'ytick.labelsize' : 20,\n",
    "                     'axes.labelsize': 20,\n",
    "                     'legend.fontsize': 20})\n",
    "plt.rc('font',**{'family':'serif','serif':['Times']})\n",
    "color1= '#94b4a4'\n",
    "color2='#deebf7'\n",
    "color3='#fff7bc'"
   ]
  },
  {
   "cell_type": "code",
   "execution_count": 133,
   "id": "eleven-concord",
   "metadata": {},
   "outputs": [],
   "source": [
    "#def parse_dash_logs(dash_log, mpeg_log, param_settings):\n",
    "    # Read the logs\n",
    "\n",
    "    # This is done so that the entry matches the time when it was requested \n",
    "    # the ABR computes the bitrate for the next segment as soon as the \n",
    "    # previous segment is received, and provides the time at which the next segment\n",
    "    # should be requested. We are adding this time to the timestamp of when \n",
    "    # the bitrate decision is printed \n",
    "\n",
    "    \n"
   ]
  },
  {
   "cell_type": "code",
   "execution_count": 134,
   "id": "arabic-parcel",
   "metadata": {},
   "outputs": [
    {
     "name": "stdout",
     "output_type": "stream",
     "text": [
      "['run17', 'run18', 'run12', 'run10', 'run11', 'run3', 'run21', 'run22', 'run13', 'run1', 'run5', 'run24', 'run9', 'run6', 'run2', 'run4', 'run23', 'run20', 'run14', 'run25', 'run7', 'run19', 'run16']\n"
     ]
    }
   ],
   "source": [
    "raw_data_dir = '../data/raw_data/dataset7_35Mbps_max_brate_withCa/'\n",
    "#subfolders = ['run1']\n",
    "subfolders = os.listdir(raw_data_dir)\n",
    "print(subfolders)"
   ]
  },
  {
   "cell_type": "code",
   "execution_count": null,
   "id": "interstate-camera",
   "metadata": {},
   "outputs": [],
   "source": [
    "# These are the metrics I want to aggregate over al lnodes and runs \n",
    "total_num_segments = []\n",
    "total_time_seconds = []\n",
    "time_between_requests = []\n",
    "total_changes_in_brate = []\n",
    "time_to_download_segment = [] \n",
    "thput_over_segments = []\n",
    "\n",
    "for run in subfolders:\n",
    "    print(run)\n",
    "    read_path = raw_data_dir + run + \"/\"\n",
    "    dash_log = read_path + \"dash_client_log.txt\"\n",
    "    mpeg_log = read_path + \"mpeg_player_log.txt\"\n",
    "    param_settings = read_path + \"parameter_settings.txt\"\n",
    "    \n",
    "    # Read the logs\n",
    "    df_Dashlog = ld.load_dash_client_log(dash_log)\n",
    "    #print(df_Dashlog.columns)\n",
    "    df_Dashlog['Time'] = round(df_Dashlog['Time'] / 1e6, 3)\n",
    "    df_Dashlog['Time'] = df_Dashlog['Time'] + df_Dashlog['delayToNxtReq_s']\n",
    "    gp_Dashlog = df_Dashlog.groupby(['Node'])\n",
    "    df_MpegLog = ld.load_std_log(mpeg_log, timeHead=\"tstamp_us\")\n",
    "    df_MpegLog['Time'] = round(df_MpegLog['Time'] / 1e6, 3)\n",
    "    gp_MpegBuffer = df_MpegLog.groupby(['Node'])\n",
    "\n",
    "    # Iterate over each node, It should not matter whether \n",
    "    # I get the node list from dash log or mpeg log  \n",
    "    for nd in gp_Dashlog.groups.keys():\n",
    "        df_node_raw_dash = pd.DataFrame(gp_Dashlog.get_group(nd))\n",
    "        df_node_raw_mpeg = pd.DataFrame(gp_MpegBuffer.get_group(nd))\n",
    "        df_node_raw_dash = df_node_raw_dash.sort_values(['Time'])\n",
    "        # start counting what I want to count\n",
    "        # we will have one sample per node in a run \n",
    "        # Single numbers \n",
    "        total_num_segments.append(df_node_raw_dash.shape[0])\n",
    "        total_time_seconds.append(df_node_raw_dash['Time'].iloc[-1] - \n",
    "                                                       df_node_raw_dash['Time'].iloc[0])\n",
    "        total_changes_in_brate.append((df_node_raw_dash['newBitRate_bps'] != \n",
    "                         df_node_raw_dash['newBitRate_bps'].shift()).sum(axis=0)) \n",
    "        \n",
    "        # lists \n",
    "        time_between_requests.extend((df_node_raw_dash['Time'] - \n",
    "                                      df_node_raw_dash['Time'].shift()).dropna().tolist())\n",
    "        time_to_download_segment.extend( ((df_node_raw_dash['oldBitRate_bps']*8 / \n",
    "                                         df_node_raw_dash['thputOverLastSeg_bps']).tolist())*8 )\n",
    "        thput_over_segments.extend(df_node_raw_dash['thputOverLastSeg_bps']/1e6)\n",
    "        \n",
    "    \n",
    "\n",
    "    #parse_dash_logs(dash_log, mpeg_log, param_settings)\n",
    "    #proc_data.append([dash_log, mpeg_log, param_settings])\n",
    "    #mp = Pool(processes=10)\n",
    "    #mp.starmap(parse_dash_logs, proc_data)"
   ]
  },
  {
   "cell_type": "code",
   "execution_count": 136,
   "id": "unlike-forwarding",
   "metadata": {},
   "outputs": [
    {
     "name": "stdout",
     "output_type": "stream",
     "text": [
      "ABR changes per second\n",
      "0.04216777207271013\n",
      "Average time in seconds between ABR change\n",
      "23.71479333258808\n",
      "Fraction of segments sent that were ABR changes\n",
      "0.34075333368751\n"
     ]
    }
   ],
   "source": [
    "# print the required numbers\n",
    "\n",
    "# ABR changes per unit time \n",
    "print('ABR changes per second')\n",
    "print(sum(total_changes_in_brate) / sum (total_time_seconds))\n",
    "\n",
    "print('Average time in seconds between ABR change')\n",
    "print(sum (total_time_seconds) / sum(total_changes_in_brate))\n",
    "\n",
    "# ABR changes per unit segment or the fraction of segments that have been changes \n",
    "print('Fraction of segments sent that were ABR changes')\n",
    "print(sum(total_changes_in_brate) / sum(total_num_segments))"
   ]
  },
  {
   "cell_type": "code",
   "execution_count": 140,
   "id": "generous-coordinate",
   "metadata": {},
   "outputs": [
    {
     "data": {
      "image/png": "[encoded data removed]",
      "text/plain": [
       "<Figure size 432x288 with 1 Axes>"
      ]
     },
     "metadata": {
      "needs_background": "light"
     },
     "output_type": "display_data"
    },
    {
     "data": {
      "image/png": "[encoded data removed]",
      "text/plain": [
       "<Figure size 432x288 with 1 Axes>"
      ]
     },
     "metadata": {
      "needs_background": "light"
     },
     "output_type": "display_data"
    },
    {
     "data": {
      "image/png": "[encoded data removed]",
      "text/plain": [
       "<Figure size 432x288 with 1 Axes>"
      ]
     },
     "metadata": {
      "needs_background": "light"
     },
     "output_type": "display_data"
    }
   ],
   "source": [
    "# histograms \n",
    "n_bins = 30\n",
    "plt.hist(time_between_requests, bins=n_bins, facecolor='blue', \n",
    "         edgecolor ='k', range=(0, 25), density=True)\n",
    "plt.xlabel('Time between segment requests (s)')\n",
    "plt.show()\n",
    "\n",
    "n_bins = 30\n",
    "plt.hist(time_to_download_segment, bins=n_bins, facecolor='magenta', \n",
    "         edgecolor ='k', range=(0, 25), density=True)\n",
    "plt.xlabel('Time to download a segment (s)')\n",
    "plt.show()\n",
    "\n",
    "n_bins = 30\n",
    "plt.hist(thput_over_segments, bins=n_bins, facecolor='darkgreen', \n",
    "         edgecolor ='k', range=(0, 75),density=True)\n",
    "plt.xlabel('Throughput over segment (Mbps)')\n",
    "plt.show()\n",
    "\n"
   ]
  },
  {
   "cell_type": "code",
   "execution_count": null,
   "id": "extra-slovakia",
   "metadata": {},
   "outputs": [],
   "source": []
  }
 ],
 "metadata": {
  "kernelspec": {
   "display_name": "Python 3 (ipykernel)",
   "language": "python",
   "name": "python3"
  },
  "language_info": {
   "codemirror_mode": {
    "name": "ipython",
    "version": 3
   },
   "file_extension": ".py",
   "mimetype": "text/x-python",
   "name": "python",
   "nbconvert_exporter": "python",
   "pygments_lexer": "ipython3",
   "version": "3.9.2"
  }
 },
 "nbformat": 4,
 "nbformat_minor": 5
}
